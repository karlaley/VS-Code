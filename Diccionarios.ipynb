{
  "nbformat": 4,
  "nbformat_minor": 0,
  "metadata": {
    "colab": {
      "provenance": [],
      "authorship_tag": "ABX9TyOl4uIK0FHDMRPy19Iq/Bb3",
      "include_colab_link": true
    },
    "kernelspec": {
      "name": "python3",
      "display_name": "Python 3"
    },
    "language_info": {
      "name": "python"
    }
  },
  "cells": [
    {
      "cell_type": "markdown",
      "metadata": {
        "id": "view-in-github",
        "colab_type": "text"
      },
      "source": [
        "<a href=\"https://colab.research.google.com/github/karlaley/VS-Code/blob/master/Diccionarios.ipynb\" target=\"_parent\"><img src=\"https://colab.research.google.com/assets/colab-badge.svg\" alt=\"Open In Colab\"/></a>"
      ]
    },
    {
      "cell_type": "markdown",
      "source": [
        "***DICCIONARIOS***"
      ],
      "metadata": {
        "id": "5etnBTuFfwKV"
      }
    },
    {
      "cell_type": "code",
      "source": [
        "diccionario = {\"Python\": 1991, \"C\": 1972, \"Java\": 1996}\n",
        "#Cada elemento tiene su propio nombre, la clava va entre comillas\n",
        "#el valor, para agregar mas elementos se agrega una coma\n",
        "diccionario"
      ],
      "metadata": {
        "colab": {
          "base_uri": "https://localhost:8080/"
        },
        "id": "8sdTE-Ntf0tY",
        "outputId": "8fca9456-a3fe-4da9-d715-cadd8acbce19"
      },
      "execution_count": 1,
      "outputs": [
        {
          "output_type": "execute_result",
          "data": {
            "text/plain": [
              "{'Python': 1991, 'C': 1972, 'Java': 1996}"
            ]
          },
          "metadata": {},
          "execution_count": 1
        }
      ]
    },
    {
      "cell_type": "code",
      "source": [
        "diccionario2 = {1: 'hola', 2:'Python', 'a': 'b', 'c':27}\n",
        "#los elementos pueden ser numericos, strings\n",
        "diccionario2"
      ],
      "metadata": {
        "colab": {
          "base_uri": "https://localhost:8080/"
        },
        "id": "KRKrexjMgWRL",
        "outputId": "72b79952-fd1e-41ac-a3f1-df28f1046865"
      },
      "execution_count": 3,
      "outputs": [
        {
          "output_type": "execute_result",
          "data": {
            "text/plain": [
              "{1: 'hola', 2: 'Python', 'a': 'b', 'c': 27}"
            ]
          },
          "metadata": {},
          "execution_count": 3
        }
      ]
    },
    {
      "cell_type": "markdown",
      "source": [
        "*Acceder a los elementos de un diccionario*"
      ],
      "metadata": {
        "id": "TAGh6Z8BgvVS"
      }
    },
    {
      "cell_type": "code",
      "source": [
        "diccionario = {\"Python\": 1991, \"C\": 1972, \"Java\": 1996}\n",
        "diccionario[\"Python\"]"
      ],
      "metadata": {
        "colab": {
          "base_uri": "https://localhost:8080/"
        },
        "id": "zhZuhblTg0jh",
        "outputId": "f35c0c6b-2a68-4489-8d0c-6d6eda53b036"
      },
      "execution_count": 4,
      "outputs": [
        {
          "output_type": "execute_result",
          "data": {
            "text/plain": [
              "1991"
            ]
          },
          "metadata": {},
          "execution_count": 4
        }
      ]
    },
    {
      "cell_type": "markdown",
      "source": [
        "Cambiar un valor de un elemento del diccionario"
      ],
      "metadata": {
        "id": "vgyHrYvbhNFY"
      }
    },
    {
      "cell_type": "code",
      "source": [
        "diccionario = {\"Python\": 1991, \"C\": 1972, \"Java\": 1996}\n",
        "diccionario[\"Python\"] = 2001\n",
        "diccionario\n",
        "#nombre de la clave que vamos a cambiar= valor nuevo"
      ],
      "metadata": {
        "colab": {
          "base_uri": "https://localhost:8080/"
        },
        "id": "SkpCAbqMhTPx",
        "outputId": "ba4d913a-1fef-497e-9c1b-4c1df5d26cb6"
      },
      "execution_count": 5,
      "outputs": [
        {
          "output_type": "execute_result",
          "data": {
            "text/plain": [
              "{'Python': 2001, 'C': 1972, 'Java': 1996}"
            ]
          },
          "metadata": {},
          "execution_count": 5
        }
      ]
    },
    {
      "cell_type": "markdown",
      "source": [
        "Agregar un nuevo elemento"
      ],
      "metadata": {
        "id": "VqRgNTophvP7"
      }
    },
    {
      "cell_type": "code",
      "source": [
        "diccionario = {\"Python\": 1991, \"C\": 1972, \"Java\": 1996}\n",
        "diccionario[\"C++\"] = 1983\n",
        "diccionario"
      ],
      "metadata": {
        "colab": {
          "base_uri": "https://localhost:8080/"
        },
        "id": "CIMgqEEMhxGn",
        "outputId": "3f75c6e7-1a5a-43a8-bb34-cae3e96a23c7"
      },
      "execution_count": 6,
      "outputs": [
        {
          "output_type": "execute_result",
          "data": {
            "text/plain": [
              "{'Python': 1991, 'C': 1972, 'Java': 1996, 'C++': 1983}"
            ]
          },
          "metadata": {},
          "execution_count": 6
        }
      ]
    },
    {
      "cell_type": "markdown",
      "source": [
        "Eliminar un elemento especifico con el nombre de la clave"
      ],
      "metadata": {
        "id": "hzq0CL_LiM4O"
      }
    },
    {
      "cell_type": "code",
      "source": [
        "#usar la funcion pop al final del nombre de la variable\n",
        "#variable.pop\n",
        "diccionario.pop(\"Python\")\n",
        "diccionario"
      ],
      "metadata": {
        "colab": {
          "base_uri": "https://localhost:8080/"
        },
        "id": "ekDd3i07iQYh",
        "outputId": "6e79d505-bb8a-44c4-d5b5-5b370545a66c"
      },
      "execution_count": 7,
      "outputs": [
        {
          "output_type": "execute_result",
          "data": {
            "text/plain": [
              "{'C': 1972, 'Java': 1996, 'C++': 1983}"
            ]
          },
          "metadata": {},
          "execution_count": 7
        }
      ]
    },
    {
      "cell_type": "code",
      "source": [],
      "metadata": {
        "id": "VvFCLaEAiQfE"
      },
      "execution_count": null,
      "outputs": []
    },
    {
      "cell_type": "markdown",
      "source": [
        "Numero de elementos del diccionario"
      ],
      "metadata": {
        "id": "YPofvWMLihGS"
      }
    },
    {
      "cell_type": "code",
      "source": [
        "#funcion len\n",
        "len(diccionario)"
      ],
      "metadata": {
        "colab": {
          "base_uri": "https://localhost:8080/"
        },
        "id": "WszJjA_bikLb",
        "outputId": "48158e52-57d4-401d-842c-01d9d758b0e7"
      },
      "execution_count": 9,
      "outputs": [
        {
          "output_type": "execute_result",
          "data": {
            "text/plain": [
              "3"
            ]
          },
          "metadata": {},
          "execution_count": 9
        }
      ]
    },
    {
      "cell_type": "markdown",
      "source": [
        "Nombre de las claves del diccionario"
      ],
      "metadata": {
        "id": "gC1qFu9ii48H"
      }
    },
    {
      "cell_type": "code",
      "source": [
        "diccionario.keys()"
      ],
      "metadata": {
        "colab": {
          "base_uri": "https://localhost:8080/"
        },
        "id": "mUO_TAaRi7fi",
        "outputId": "e2fc0278-822a-4ed8-8528-354377adafb8"
      },
      "execution_count": 10,
      "outputs": [
        {
          "output_type": "execute_result",
          "data": {
            "text/plain": [
              "dict_keys(['C', 'Java', 'C++'])"
            ]
          },
          "metadata": {},
          "execution_count": 10
        }
      ]
    },
    {
      "cell_type": "markdown",
      "source": [
        "Nombre de los valores del diccionario"
      ],
      "metadata": {
        "id": "zEwWA_x_jIx3"
      }
    },
    {
      "cell_type": "code",
      "source": [
        "diccionario.values()"
      ],
      "metadata": {
        "colab": {
          "base_uri": "https://localhost:8080/"
        },
        "id": "_QrLX5mWjLKa",
        "outputId": "9a964b0d-8ba3-4cbf-aa03-db8db2520560"
      },
      "execution_count": 12,
      "outputs": [
        {
          "output_type": "execute_result",
          "data": {
            "text/plain": [
              "dict_values([1972, 1996, 1983])"
            ]
          },
          "metadata": {},
          "execution_count": 12
        }
      ]
    },
    {
      "cell_type": "markdown",
      "source": [
        "Diccionario dentro de otro (Diccionario anidado)"
      ],
      "metadata": {
        "id": "lujIbwBXjfgz"
      }
    },
    {
      "cell_type": "code",
      "source": [
        "d = {'d1': {'k1': 1, 'k2':2}, 'd2': {'k1': 3, 'k4': 4}}\n",
        "d"
      ],
      "metadata": {
        "colab": {
          "base_uri": "https://localhost:8080/"
        },
        "id": "en1PxhObjiE-",
        "outputId": "23d0693d-10c6-4871-bc87-b4419ec90163"
      },
      "execution_count": 13,
      "outputs": [
        {
          "output_type": "execute_result",
          "data": {
            "text/plain": [
              "{'d1': {'k1': 1, 'k2': 2}, 'd2': {'k1': 3, 'k4': 4}}"
            ]
          },
          "metadata": {},
          "execution_count": 13
        }
      ]
    },
    {
      "cell_type": "code",
      "source": [
        "d['d1']['k1']\n",
        "#nombre de las dos claves"
      ],
      "metadata": {
        "colab": {
          "base_uri": "https://localhost:8080/"
        },
        "id": "gV0KGx1fj5Tg",
        "outputId": "d53e891b-8f51-4100-d989-040de031765a"
      },
      "execution_count": 14,
      "outputs": [
        {
          "output_type": "execute_result",
          "data": {
            "text/plain": [
              "1"
            ]
          },
          "metadata": {},
          "execution_count": 14
        }
      ]
    },
    {
      "cell_type": "markdown",
      "source": [
        "Unir dos diccionarios=\n",
        "variable.update"
      ],
      "metadata": {
        "id": "vTFNlnxhkOVE"
      }
    },
    {
      "cell_type": "code",
      "source": [
        "d = diccionario = {\"Python\": 1991, \"C\": 1972, \"Java\": 1996}\n",
        "d2 = {\"Elixir\": 2011, \"Ruby\": 1995}\n",
        "d.update(d2)\n",
        "d"
      ],
      "metadata": {
        "colab": {
          "base_uri": "https://localhost:8080/"
        },
        "id": "yMGk-YtOkP0E",
        "outputId": "131dada6-3125-4d39-e5c6-d2141e9843bb"
      },
      "execution_count": 15,
      "outputs": [
        {
          "output_type": "execute_result",
          "data": {
            "text/plain": [
              "{'Python': 1991, 'C': 1972, 'Java': 1996, 'Elixir': 2011, 'Ruby': 1995}"
            ]
          },
          "metadata": {},
          "execution_count": 15
        }
      ]
    },
    {
      "cell_type": "code",
      "source": [
        "d = diccionario = {\"Python\": 1991, \"C\": 1972, \"Java\": 1996}\n",
        "d2 = {\"Elixir\": 2011, \"Ruby\": 1995}\n",
        "d2.update(d)\n",
        "d2"
      ],
      "metadata": {
        "colab": {
          "base_uri": "https://localhost:8080/"
        },
        "id": "hoU_6kuokgyt",
        "outputId": "bc73fc99-9e1f-42b1-b8e2-dbf6313faf90"
      },
      "execution_count": 16,
      "outputs": [
        {
          "output_type": "execute_result",
          "data": {
            "text/plain": [
              "{'Elixir': 2011, 'Ruby': 1995, 'Python': 1991, 'C': 1972, 'Java': 1996}"
            ]
          },
          "metadata": {},
          "execution_count": 16
        }
      ]
    },
    {
      "cell_type": "markdown",
      "source": [
        "LISTAS DENTRO DE DICCIONARIOS"
      ],
      "metadata": {
        "id": "aiMX31CHmy8o"
      }
    },
    {
      "cell_type": "code",
      "source": [
        "d= {\"Python\": [1,2,3], \"C\": 1972, \"Java\": 1996}\n",
        "d"
      ],
      "metadata": {
        "colab": {
          "base_uri": "https://localhost:8080/"
        },
        "id": "C9bqK2SjmJrV",
        "outputId": "aed9ff27-c951-43fd-bb2d-c7d0c5bc0890"
      },
      "execution_count": 17,
      "outputs": [
        {
          "output_type": "execute_result",
          "data": {
            "text/plain": [
              "{'Python': [1, 2, 3], 'C': 1972, 'Java': 1996}"
            ]
          },
          "metadata": {},
          "execution_count": 17
        }
      ]
    },
    {
      "cell_type": "code",
      "source": [
        "lista = [d,1,2]\n",
        "lista"
      ],
      "metadata": {
        "colab": {
          "base_uri": "https://localhost:8080/"
        },
        "id": "D5ZxO1lvmh4Y",
        "outputId": "7f45b246-55e3-4c50-8119-9dbb3eaae19d"
      },
      "execution_count": 20,
      "outputs": [
        {
          "output_type": "execute_result",
          "data": {
            "text/plain": [
              "[{'Python': [1, 2, 3], 'C': 1972, 'Java': 1996}, 1, 2]"
            ]
          },
          "metadata": {},
          "execution_count": 20
        }
      ]
    },
    {
      "cell_type": "code",
      "source": [
        "#la lista es elementos ordenados, el primero es elemento 0\n",
        "#diccionario, los elementos no tienen orden, el primer elemento\n",
        "#no es el numero 0, tienen nombres"
      ],
      "metadata": {
        "id": "HWPqJ_qPmXEm"
      },
      "execution_count": null,
      "outputs": []
    }
  ]
}